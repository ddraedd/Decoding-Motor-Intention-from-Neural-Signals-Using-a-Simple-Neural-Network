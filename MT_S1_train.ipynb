{
  "nbformat": 4,
  "nbformat_minor": 0,
  "metadata": {
    "colab": {
      "provenance": [],
      "include_colab_link": true
    },
    "kernelspec": {
      "name": "python3",
      "display_name": "Python 3"
    },
    "language_info": {
      "name": "python"
    }
  },
  "cells": [
    {
      "cell_type": "markdown",
      "metadata": {
        "id": "view-in-github",
        "colab_type": "text"
      },
      "source": [
        "<a href=\"https://colab.research.google.com/github/ddraedd/Decoding-Motor-Intention-from-Neural-Signals-Using-a-Simple-Neural-Network/blob/main/MT_S1_train.ipynb\" target=\"_parent\"><img src=\"https://colab.research.google.com/assets/colab-badge.svg\" alt=\"Open In Colab\"/></a>"
      ]
    },
    {
      "cell_type": "code",
      "source": [
        "from google.colab import drive\n",
        "drive.mount('/content/drive')"
      ],
      "metadata": {
        "id": "JS4GLRQhDTgb",
        "colab": {
          "base_uri": "https://localhost:8080/",
          "height": 304
        },
        "outputId": "70eacaed-5a21-40d3-9fd0-b75ed8354a03"
      },
      "execution_count": 1,
      "outputs": [
        {
          "output_type": "error",
          "ename": "ValueError",
          "evalue": "mount failed",
          "traceback": [
            "\u001b[0;31m---------------------------------------------------------------------------\u001b[0m",
            "\u001b[0;31mValueError\u001b[0m                                Traceback (most recent call last)",
            "\u001b[0;32m<ipython-input-1-d5df0069828e>\u001b[0m in \u001b[0;36m<cell line: 0>\u001b[0;34m()\u001b[0m\n\u001b[1;32m      1\u001b[0m \u001b[0;32mfrom\u001b[0m \u001b[0mgoogle\u001b[0m\u001b[0;34m.\u001b[0m\u001b[0mcolab\u001b[0m \u001b[0;32mimport\u001b[0m \u001b[0mdrive\u001b[0m\u001b[0;34m\u001b[0m\u001b[0;34m\u001b[0m\u001b[0m\n\u001b[0;32m----> 2\u001b[0;31m \u001b[0mdrive\u001b[0m\u001b[0;34m.\u001b[0m\u001b[0mmount\u001b[0m\u001b[0;34m(\u001b[0m\u001b[0;34m'/content/drive'\u001b[0m\u001b[0;34m)\u001b[0m\u001b[0;34m\u001b[0m\u001b[0;34m\u001b[0m\u001b[0m\n\u001b[0m",
            "\u001b[0;32m/usr/local/lib/python3.11/dist-packages/google/colab/drive.py\u001b[0m in \u001b[0;36mmount\u001b[0;34m(mountpoint, force_remount, timeout_ms, readonly)\u001b[0m\n\u001b[1;32m     98\u001b[0m \u001b[0;32mdef\u001b[0m \u001b[0mmount\u001b[0m\u001b[0;34m(\u001b[0m\u001b[0mmountpoint\u001b[0m\u001b[0;34m,\u001b[0m \u001b[0mforce_remount\u001b[0m\u001b[0;34m=\u001b[0m\u001b[0;32mFalse\u001b[0m\u001b[0;34m,\u001b[0m \u001b[0mtimeout_ms\u001b[0m\u001b[0;34m=\u001b[0m\u001b[0;36m120000\u001b[0m\u001b[0;34m,\u001b[0m \u001b[0mreadonly\u001b[0m\u001b[0;34m=\u001b[0m\u001b[0;32mFalse\u001b[0m\u001b[0;34m)\u001b[0m\u001b[0;34m:\u001b[0m\u001b[0;34m\u001b[0m\u001b[0;34m\u001b[0m\u001b[0m\n\u001b[1;32m     99\u001b[0m   \u001b[0;34m\"\"\"Mount your Google Drive at the specified mountpoint path.\"\"\"\u001b[0m\u001b[0;34m\u001b[0m\u001b[0;34m\u001b[0m\u001b[0m\n\u001b[0;32m--> 100\u001b[0;31m   return _mount(\n\u001b[0m\u001b[1;32m    101\u001b[0m       \u001b[0mmountpoint\u001b[0m\u001b[0;34m,\u001b[0m\u001b[0;34m\u001b[0m\u001b[0;34m\u001b[0m\u001b[0m\n\u001b[1;32m    102\u001b[0m       \u001b[0mforce_remount\u001b[0m\u001b[0;34m=\u001b[0m\u001b[0mforce_remount\u001b[0m\u001b[0;34m,\u001b[0m\u001b[0;34m\u001b[0m\u001b[0;34m\u001b[0m\u001b[0m\n",
            "\u001b[0;32m/usr/local/lib/python3.11/dist-packages/google/colab/drive.py\u001b[0m in \u001b[0;36m_mount\u001b[0;34m(mountpoint, force_remount, timeout_ms, ephemeral, readonly)\u001b[0m\n\u001b[1;32m    275\u001b[0m             \u001b[0;34m'https://research.google.com/colaboratory/faq.html#drive-timeout'\u001b[0m\u001b[0;34m\u001b[0m\u001b[0;34m\u001b[0m\u001b[0m\n\u001b[1;32m    276\u001b[0m         )\n\u001b[0;32m--> 277\u001b[0;31m       \u001b[0;32mraise\u001b[0m \u001b[0mValueError\u001b[0m\u001b[0;34m(\u001b[0m\u001b[0;34m'mount failed'\u001b[0m \u001b[0;34m+\u001b[0m \u001b[0mextra_reason\u001b[0m\u001b[0;34m)\u001b[0m\u001b[0;34m\u001b[0m\u001b[0;34m\u001b[0m\u001b[0m\n\u001b[0m\u001b[1;32m    278\u001b[0m     \u001b[0;32melif\u001b[0m \u001b[0mcase\u001b[0m \u001b[0;34m==\u001b[0m \u001b[0;36m4\u001b[0m\u001b[0;34m:\u001b[0m\u001b[0;34m\u001b[0m\u001b[0;34m\u001b[0m\u001b[0m\n\u001b[1;32m    279\u001b[0m       \u001b[0;31m# Terminate the DriveFS binary before killing bash.\u001b[0m\u001b[0;34m\u001b[0m\u001b[0;34m\u001b[0m\u001b[0m\n",
            "\u001b[0;31mValueError\u001b[0m: mount failed"
          ]
        }
      ]
    },
    {
      "cell_type": "code",
      "source": [
        "import scipy.io\n",
        "import numpy as np\n",
        "import matplotlib.pyplot as plt\n",
        "import pandas as pd\n",
        "\n",
        "import torch\n",
        "import torch.nn as nn\n",
        "import torch.optim as optim\n",
        "\n",
        "from sklearn.preprocessing import StandardScaler\n",
        "from sklearn.model_selection import train_test_split\n",
        "from sklearn.metrics import accuracy_score, roc_auc_score\n",
        "from sklearn.metrics import confusion_matrix, ConfusionMatrixDisplay"
      ],
      "metadata": {
        "id": "9c_7p3Ki9Ale"
      },
      "execution_count": 38,
      "outputs": []
    },
    {
      "cell_type": "code",
      "execution_count": 3,
      "metadata": {
        "colab": {
          "base_uri": "https://localhost:8080/"
        },
        "id": "0MOj5mi6322_",
        "outputId": "eb496b1f-8d41-4011-b80e-3901d72167c9"
      },
      "outputs": [
        {
          "output_type": "execute_result",
          "data": {
            "text/plain": [
              "dict_keys(['__header__', '__version__', '__globals__', 'PMd', 'cont', 'trial_table'])"
            ]
          },
          "metadata": {},
          "execution_count": 3
        }
      ],
      "source": [
        "import scipy.io\n",
        "\n",
        "mat_file_path = \"/content/drive/MyDrive/primate spike data/data_and_scripts/source_data/raw/MT_S1_raw.mat\"\n",
        "MT_S1 = scipy.io.loadmat(mat_file_path)\n",
        "\n",
        "MT_S1.keys()\n"
      ]
    },
    {
      "cell_type": "code",
      "source": [
        "pmd = MT_S1['PMd'][0, 0]\n",
        "cont = MT_S1['cont'][0, 0]\n",
        "t = cont['t'].flatten()\n",
        "position = cont['pos']\n",
        "pmd_units = MT_S1['PMd'][0, 0]['units']\n",
        "pmd_trialTable = MT_S1['trial_table']"
      ],
      "metadata": {
        "id": "MvaJ71A9_XKg"
      },
      "execution_count": 6,
      "outputs": []
    },
    {
      "cell_type": "code",
      "source": [
        "# visulaizing units in a single trial\n",
        "pmd_units[0][0]"
      ],
      "metadata": {
        "colab": {
          "base_uri": "https://localhost:8080/"
        },
        "id": "jXNOqODwBC6b",
        "outputId": "efaaf723-e006-40ce-f049-786c354b886e"
      },
      "execution_count": 7,
      "outputs": [
        {
          "output_type": "execute_result",
          "data": {
            "text/plain": [
              "np.void((array([[93,  1]], dtype=uint8), array([[  3.5 ,   3.5 ,   4.5 , ...,   7.5 ,  -7.5 ,  -7.25],\n",
              "       [  1.75,  -2.5 ,   7.75, ...,   5.  , -12.25,  -5.5 ],\n",
              "       [  0.  ,  -4.25,   5.75, ...,   9.  , -17.  ,  -6.25],\n",
              "       ...,\n",
              "       [ -3.75,  11.5 ,  -4.5 , ..., -17.  ,   6.25,  12.75],\n",
              "       [  2.5 ,  10.  ,   0.75, ..., -10.75,   5.5 ,   6.25],\n",
              "       [  6.5 ,  -3.  ,  -3.  , ...,  -8.5 ,   8.25,   2.5 ]]), array([[2.89000000e-02],\n",
              "       [5.01000000e-02],\n",
              "       [1.07800000e-01],\n",
              "       ...,\n",
              "       [8.04638733e+02],\n",
              "       [8.04648133e+02],\n",
              "       [8.04741400e+02]]), array([[2586]], dtype=uint16), array([[63.65854602]]), array([[0.21418738]]), array([[3.21345466]]), array([[1]], dtype=uint8)), dtype=[('id', 'O'), ('wf', 'O'), ('ts', 'O'), ('ns', 'O'), ('p2p', 'O'), ('misi', 'O'), ('mfr', 'O'), ('offline_sorter_channel', 'O')])"
            ]
          },
          "metadata": {},
          "execution_count": 7
        }
      ]
    },
    {
      "cell_type": "code",
      "source": [
        "def extract_spike_counts_matrix(units, trial_table, window_s=0.5, event_col=2, label_col=7):\n",
        "    \"\"\"\n",
        "    Extracts spike count matrix (n_trials x n_units) from neural data.\n",
        "\n",
        "    Parameters:\n",
        "    - units: array of unit structs (from m1['units'])\n",
        "    - trial_table: array containing trial start/go cue/end etc.\n",
        "    - window_s: window (in seconds) before go cue to count spikes\n",
        "    - event_col: index of event to align to (e.g., go cue = 2)\n",
        "    - label_col: index of label to predict (e.g., reach direction = 7)\n",
        "\n",
        "    Returns:\n",
        "    - X: np.array of shape (n_trials, n_units), spike counts\n",
        "    - y: np.array of shape (n_trials,), labels\n",
        "    \"\"\"\n",
        "    n_trials = trial_table.shape[0]\n",
        "    n_units = units.shape[0]\n",
        "    X = np.zeros((n_trials, n_units))\n",
        "    y = []\n",
        "\n",
        "    for i in range(n_trials):\n",
        "        trial = trial_table[i]\n",
        "        align_time = trial[event_col]  # go cue or other time\n",
        "        label = trial[label_col]\n",
        "        y.append(label)\n",
        "\n",
        "        for j in range(n_units):\n",
        "            spike_times = units[j][0]['ts'].flatten()\n",
        "            count = ((spike_times > (align_time - window_s)) & (spike_times <= align_time)).sum()\n",
        "            X[i, j] = count\n",
        "\n",
        "    return X, np.array(y)\n"
      ],
      "metadata": {
        "id": "5aJV7ta9Uxc2"
      },
      "execution_count": 8,
      "outputs": []
    },
    {
      "cell_type": "code",
      "source": [
        "spike_cnt_mat, y = extract_spike_counts_matrix(pmd_units, pmd_trialTable)"
      ],
      "metadata": {
        "id": "-FZWDnrDVT7m"
      },
      "execution_count": 9,
      "outputs": []
    },
    {
      "cell_type": "code",
      "source": [
        "# Normalizing the spike data (mean=0, unit var)\n",
        "scaler = StandardScaler()\n",
        "spike_cnt_scaled = scaler.fit_transform(spike_cnt_mat)"
      ],
      "metadata": {
        "id": "2MNHuEr8X5o5"
      },
      "execution_count": 32,
      "outputs": []
    },
    {
      "cell_type": "code",
      "source": [
        "# Extract trial result column (index 22 in 0-based Python)\n",
        "trial_result = pmd_trialTable[:, 22]\n",
        "\n",
        "# Only keep successful (82) and failed (70)\n",
        "valid_mask = np.isin(trial_result, [82, 70])\n",
        "X_final = spike_cnt_scaled[valid_mask]\n",
        "y_final = (trial_result[valid_mask] == 82).astype(int)  # 1 = success, 0 = failure\n",
        "\n"
      ],
      "metadata": {
        "id": "4VWnPJB3cnEh"
      },
      "execution_count": 33,
      "outputs": []
    },
    {
      "cell_type": "code",
      "source": [
        "# train and test data splitting\n",
        "X_train, X_test, y_train, y_test = train_test_split(\n",
        "    X_final, y_final, test_size=0.2, stratify=y_final, random_state=42\n",
        ")\n"
      ],
      "metadata": {
        "id": "VToV4_oWYLzW"
      },
      "execution_count": 35,
      "outputs": []
    },
    {
      "cell_type": "code",
      "source": [
        "# train a feedforward neural network\n",
        "\n",
        "class SimpleNN(nn.Module):\n",
        "    def __init__(self, input_dim, hidden_dim=64):\n",
        "        super(SimpleNN, self).__init__()\n",
        "        self.net = nn.Sequential(\n",
        "            nn.Linear(input_dim, hidden_dim),\n",
        "            nn.ReLU(),\n",
        "            nn.Linear(hidden_dim, 1),\n",
        "            nn.Sigmoid()\n",
        "        )\n",
        "\n",
        "    def forward(self, x):\n",
        "        return self.net(x)\n"
      ],
      "metadata": {
        "id": "UGpEhdcQBJck"
      },
      "execution_count": 36,
      "outputs": []
    },
    {
      "cell_type": "code",
      "source": [
        "# Convert to torch tensors\n",
        "X_train_t = torch.tensor(X_train, dtype=torch.float32)\n",
        "y_train_t = torch.tensor(y_train, dtype=torch.float32).view(-1, 1)\n",
        "X_test_t = torch.tensor(X_test, dtype=torch.float32)\n",
        "y_test_t = torch.tensor(y_test, dtype=torch.float32).view(-1, 1)\n",
        "\n",
        "# Model, loss, optimizer\n",
        "model = SimpleNN(input_dim=X_train.shape[1])\n",
        "criterion = nn.BCELoss()\n",
        "optimizer = optim.Adam(model.parameters(), lr=1e-3)\n",
        "\n",
        "# Training loop\n",
        "n_epochs = 50\n",
        "for epoch in range(n_epochs):\n",
        "    model.train()\n",
        "    optimizer.zero_grad()\n",
        "    outputs = model(X_train_t)\n",
        "    loss = criterion(outputs, y_train_t)\n",
        "    loss.backward()\n",
        "    optimizer.step()\n",
        "\n",
        "    if epoch % 5 == 0:\n",
        "        print(f\"Epoch {epoch}, Loss: {loss.item():.4f}\")\n"
      ],
      "metadata": {
        "colab": {
          "base_uri": "https://localhost:8080/"
        },
        "id": "nnPxW5FYeVST",
        "outputId": "3d098954-8619-4bc2-f4ce-d577bfa1614d"
      },
      "execution_count": 37,
      "outputs": [
        {
          "output_type": "stream",
          "name": "stdout",
          "text": [
            "Epoch 0, Loss: 0.6926\n",
            "Epoch 5, Loss: 0.6410\n",
            "Epoch 10, Loss: 0.5929\n",
            "Epoch 15, Loss: 0.5484\n",
            "Epoch 20, Loss: 0.5073\n",
            "Epoch 25, Loss: 0.4695\n",
            "Epoch 30, Loss: 0.4350\n",
            "Epoch 35, Loss: 0.4033\n",
            "Epoch 40, Loss: 0.3744\n",
            "Epoch 45, Loss: 0.3479\n"
          ]
        }
      ]
    },
    {
      "cell_type": "code",
      "source": [
        "model.eval()\n",
        "with torch.no_grad():\n",
        "    pred_probs = model(X_test_t).numpy().squeeze()\n",
        "    preds = (pred_probs > 0.5).astype(int)\n",
        "\n",
        "acc = accuracy_score(y_test, preds)\n",
        "auc = roc_auc_score(y_test, pred_probs)\n",
        "\n",
        "print(f\"Test Accuracy: {acc:.3f}, AUC: {auc:.3f}\")"
      ],
      "metadata": {
        "colab": {
          "base_uri": "https://localhost:8080/"
        },
        "id": "yoo3GduvedUC",
        "outputId": "263b71da-7cbf-453f-fd72-60f0762f99ef"
      },
      "execution_count": 39,
      "outputs": [
        {
          "output_type": "stream",
          "name": "stdout",
          "text": [
            "Test Accuracy: 1.000, AUC: nan\n"
          ]
        },
        {
          "output_type": "stream",
          "name": "stderr",
          "text": [
            "/usr/local/lib/python3.11/dist-packages/sklearn/metrics/_ranking.py:379: UndefinedMetricWarning: Only one class is present in y_true. ROC AUC score is not defined in that case.\n",
            "  warnings.warn(\n"
          ]
        }
      ]
    },
    {
      "cell_type": "markdown",
      "source": [
        "Prediction Visualization"
      ],
      "metadata": {
        "id": "ZE1NzluLeiv1"
      }
    },
    {
      "cell_type": "code",
      "source": [
        "# Create confusion matrix\n",
        "cm = confusion_matrix(y_test, preds)\n",
        "unique_labels = np.unique(y_test)\n",
        "\n",
        "# Dynamically choose display labels\n",
        "label_names = {0: \"Fail\", 1: \"Success\"}\n",
        "display_labels = [label_names[i] for i in unique_labels]\n",
        "\n",
        "# Plot\n",
        "disp = ConfusionMatrixDisplay(confusion_matrix=cm, display_labels=display_labels)\n",
        "disp.plot(cmap=plt.cm.Blues)\n",
        "plt.title(\"Confusion Matrix\")\n",
        "plt.grid(False)\n",
        "plt.show()\n"
      ],
      "metadata": {
        "colab": {
          "base_uri": "https://localhost:8080/",
          "height": 527
        },
        "id": "vhkzSTBGeie9",
        "outputId": "d84a212a-aab2-4df6-d7ed-bbf8803f57cc"
      },
      "execution_count": 42,
      "outputs": [
        {
          "output_type": "stream",
          "name": "stderr",
          "text": [
            "/usr/local/lib/python3.11/dist-packages/sklearn/metrics/_classification.py:407: UserWarning: A single label was found in 'y_true' and 'y_pred'. For the confusion matrix to have the correct shape, use the 'labels' parameter to pass all known labels.\n",
            "  warnings.warn(\n"
          ]
        },
        {
          "output_type": "display_data",
          "data": {
            "text/plain": [
              "<Figure size 640x480 with 2 Axes>"
            ],
            "image/png": "[encoded data removed]"
          },
          "metadata": {}
        }
      ]
    },
    {
      "cell_type": "code",
      "source": [
        "from sklearn.metrics import roc_curve, auc\n",
        "\n",
        "fpr, tpr, thresholds = roc_curve(y_test, pred_probs)\n",
        "roc_auc = auc(fpr, tpr)\n",
        "\n",
        "plt.figure(figsize=(6, 5))\n",
        "plt.plot(fpr, tpr, color='darkorange', lw=2, label=f\"ROC curve (AUC = {roc_auc:.2f})\")\n",
        "plt.plot([0, 1], [0, 1], color='navy', lw=1, linestyle='--')  # baseline\n",
        "plt.xlim([0.0, 1.0])\n",
        "plt.ylim([0.0, 1.05])\n",
        "plt.xlabel(\"False Positive Rate\")\n",
        "plt.ylabel(\"True Positive Rate\")\n",
        "plt.title(\"Receiver Operating Characteristic (ROC)\")\n",
        "plt.legend(loc=\"lower right\")\n",
        "plt.grid(True)\n",
        "plt.show()\n"
      ],
      "metadata": {
        "colab": {
          "base_uri": "https://localhost:8080/",
          "height": 542
        },
        "id": "-hvLpOBKeq4W",
        "outputId": "c30077ab-c7a9-4fac-8254-56eb77a07d1a"
      },
      "execution_count": 41,
      "outputs": [
        {
          "output_type": "stream",
          "name": "stderr",
          "text": [
            "/usr/local/lib/python3.11/dist-packages/sklearn/metrics/_ranking.py:1179: UndefinedMetricWarning: No negative samples in y_true, false positive value should be meaningless\n",
            "  warnings.warn(\n"
          ]
        },
        {
          "output_type": "display_data",
          "data": {
            "text/plain": [
              "<Figure size 600x500 with 1 Axes>"
            ],
            "image/png": "[encoded data removed]"
          },
          "metadata": {}
        }
      ]
    },
    {
      "cell_type": "code",
      "source": [],
      "metadata": {
        "id": "STpAT7rRfIUh"
      },
      "execution_count": null,
      "outputs": []
    }
  ]
}